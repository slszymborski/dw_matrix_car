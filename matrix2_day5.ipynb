{
  "nbformat": 4,
  "nbformat_minor": 0,
  "metadata": {
    "colab": {
      "name": "matrix2_day5.ipynb",
      "provenance": [],
      "collapsed_sections": [],
      "mount_file_id": "1uiHnUnIM3EfiKnbdwibhFk-7w3yydP3x",
      "authorship_tag": "ABX9TyNeTwDbB2G+JKJuHvykjqJS",
      "include_colab_link": true
    },
    "kernelspec": {
      "name": "python3",
      "display_name": "Python 3"
    }
  },
  "cells": [
    {
      "cell_type": "markdown",
      "metadata": {
        "id": "view-in-github",
        "colab_type": "text"
      },
      "source": [
        "<a href=\"https://colab.research.google.com/github/slszymborski/dw_matrix_car/blob/master/matrix2_day5.ipynb\" target=\"_parent\"><img src=\"https://colab.research.google.com/assets/colab-badge.svg\" alt=\"Open In Colab\"/></a>"
      ]
    },
    {
      "cell_type": "code",
      "metadata": {
        "id": "Br6aHYhvYsp6",
        "colab_type": "code",
        "colab": {
          "base_uri": "https://localhost:8080/",
          "height": 717
        },
        "outputId": "67abf782-dbf7-4aff-a36e-723f99b9c16b"
      },
      "source": [
        "!pip install --upgrade tables\n",
        "!pip install eli5\n",
        "!pip install xgboost\n",
        "!pip install hyperopt"
      ],
      "execution_count": 1,
      "outputs": [
        {
          "output_type": "stream",
          "text": [
            "Collecting tables\n",
            "\u001b[?25l  Downloading https://files.pythonhosted.org/packages/ed/c3/8fd9e3bb21872f9d69eb93b3014c86479864cca94e625fd03713ccacec80/tables-3.6.1-cp36-cp36m-manylinux1_x86_64.whl (4.3MB)\n",
            "\u001b[K     |████████████████████████████████| 4.3MB 3.5MB/s \n",
            "\u001b[?25hRequirement already satisfied, skipping upgrade: numpy>=1.9.3 in /usr/local/lib/python3.6/dist-packages (from tables) (1.17.5)\n",
            "Requirement already satisfied, skipping upgrade: numexpr>=2.6.2 in /usr/local/lib/python3.6/dist-packages (from tables) (2.7.1)\n",
            "Installing collected packages: tables\n",
            "  Found existing installation: tables 3.4.4\n",
            "    Uninstalling tables-3.4.4:\n",
            "      Successfully uninstalled tables-3.4.4\n",
            "Successfully installed tables-3.6.1\n",
            "Collecting eli5\n",
            "\u001b[?25l  Downloading https://files.pythonhosted.org/packages/97/2f/c85c7d8f8548e460829971785347e14e45fa5c6617da374711dec8cb38cc/eli5-0.10.1-py2.py3-none-any.whl (105kB)\n",
            "\u001b[K     |████████████████████████████████| 112kB 3.6MB/s \n",
            "\u001b[?25hRequirement already satisfied: tabulate>=0.7.7 in /usr/local/lib/python3.6/dist-packages (from eli5) (0.8.6)\n",
            "Requirement already satisfied: jinja2 in /usr/local/lib/python3.6/dist-packages (from eli5) (2.11.1)\n",
            "Requirement already satisfied: graphviz in /usr/local/lib/python3.6/dist-packages (from eli5) (0.10.1)\n",
            "Requirement already satisfied: six in /usr/local/lib/python3.6/dist-packages (from eli5) (1.12.0)\n",
            "Requirement already satisfied: attrs>16.0.0 in /usr/local/lib/python3.6/dist-packages (from eli5) (19.3.0)\n",
            "Requirement already satisfied: numpy>=1.9.0 in /usr/local/lib/python3.6/dist-packages (from eli5) (1.17.5)\n",
            "Requirement already satisfied: scikit-learn>=0.18 in /usr/local/lib/python3.6/dist-packages (from eli5) (0.22.1)\n",
            "Requirement already satisfied: scipy in /usr/local/lib/python3.6/dist-packages (from eli5) (1.4.1)\n",
            "Requirement already satisfied: MarkupSafe>=0.23 in /usr/local/lib/python3.6/dist-packages (from jinja2->eli5) (1.1.1)\n",
            "Requirement already satisfied: joblib>=0.11 in /usr/local/lib/python3.6/dist-packages (from scikit-learn>=0.18->eli5) (0.14.1)\n",
            "Installing collected packages: eli5\n",
            "Successfully installed eli5-0.10.1\n",
            "Requirement already satisfied: xgboost in /usr/local/lib/python3.6/dist-packages (0.90)\n",
            "Requirement already satisfied: scipy in /usr/local/lib/python3.6/dist-packages (from xgboost) (1.4.1)\n",
            "Requirement already satisfied: numpy in /usr/local/lib/python3.6/dist-packages (from xgboost) (1.17.5)\n",
            "Requirement already satisfied: hyperopt in /usr/local/lib/python3.6/dist-packages (0.1.2)\n",
            "Requirement already satisfied: pymongo in /usr/local/lib/python3.6/dist-packages (from hyperopt) (3.10.1)\n",
            "Requirement already satisfied: tqdm in /usr/local/lib/python3.6/dist-packages (from hyperopt) (4.28.1)\n",
            "Requirement already satisfied: scipy in /usr/local/lib/python3.6/dist-packages (from hyperopt) (1.4.1)\n",
            "Requirement already satisfied: numpy in /usr/local/lib/python3.6/dist-packages (from hyperopt) (1.17.5)\n",
            "Requirement already satisfied: future in /usr/local/lib/python3.6/dist-packages (from hyperopt) (0.16.0)\n",
            "Requirement already satisfied: six in /usr/local/lib/python3.6/dist-packages (from hyperopt) (1.12.0)\n",
            "Requirement already satisfied: networkx in /usr/local/lib/python3.6/dist-packages (from hyperopt) (2.4)\n",
            "Requirement already satisfied: decorator>=4.3.0 in /usr/local/lib/python3.6/dist-packages (from networkx->hyperopt) (4.4.1)\n"
          ],
          "name": "stdout"
        }
      ]
    },
    {
      "cell_type": "code",
      "metadata": {
        "id": "M_vCHpOGY9q5",
        "colab_type": "code",
        "colab": {
          "base_uri": "https://localhost:8080/",
          "height": 194
        },
        "outputId": "31e3fcf7-edbc-4f1b-dd93-5a8cf980eac0"
      },
      "source": [
        "import pandas as pd\n",
        "import numpy as np\n",
        "\n",
        "from sklearn.dummy import DummyRegressor\n",
        "from sklearn.tree import DecisionTreeRegressor\n",
        "from sklearn.ensemble import RandomForestRegressor\n",
        "\n",
        "import xgboost as xgb\n",
        "\n",
        "from sklearn.metrics import mean_absolute_error as mae \n",
        "from sklearn.model_selection import cross_val_score, KFold\n",
        "\n",
        "from hyperopt import hp, fmin, tpe, STATUS_OK\n",
        "\n",
        "import eli5\n",
        "from eli5.sklearn import PermutationImportance"
      ],
      "execution_count": 2,
      "outputs": [
        {
          "output_type": "stream",
          "text": [
            "/usr/local/lib/python3.6/dist-packages/sklearn/utils/deprecation.py:144: FutureWarning: The sklearn.metrics.scorer module is  deprecated in version 0.22 and will be removed in version 0.24. The corresponding classes / functions should instead be imported from sklearn.metrics. Anything that cannot be imported from sklearn.metrics is now part of the private API.\n",
            "  warnings.warn(message, FutureWarning)\n",
            "/usr/local/lib/python3.6/dist-packages/sklearn/utils/deprecation.py:144: FutureWarning: The sklearn.feature_selection.base module is  deprecated in version 0.22 and will be removed in version 0.24. The corresponding classes / functions should instead be imported from sklearn.feature_selection. Anything that cannot be imported from sklearn.feature_selection is now part of the private API.\n",
            "  warnings.warn(message, FutureWarning)\n",
            "Using TensorFlow backend.\n"
          ],
          "name": "stderr"
        },
        {
          "output_type": "display_data",
          "data": {
            "text/html": [
              "<p style=\"color: red;\">\n",
              "The default version of TensorFlow in Colab will soon switch to TensorFlow 2.x.<br>\n",
              "We recommend you <a href=\"https://www.tensorflow.org/guide/migrate\" target=\"_blank\">upgrade</a> now \n",
              "or ensure your notebook will continue to use TensorFlow 1.x via the <code>%tensorflow_version 1.x</code> magic:\n",
              "<a href=\"https://colab.research.google.com/notebooks/tensorflow_version.ipynb\" target=\"_blank\">more info</a>.</p>\n"
            ],
            "text/plain": [
              "<IPython.core.display.HTML object>"
            ]
          },
          "metadata": {
            "tags": []
          }
        }
      ]
    },
    {
      "cell_type": "code",
      "metadata": {
        "id": "TriBEAJ8ZPxf",
        "colab_type": "code",
        "colab": {
          "base_uri": "https://localhost:8080/",
          "height": 35
        },
        "outputId": "28def42d-969d-4eae-e877-df1f9eaee103"
      },
      "source": [
        "cd \"/content/drive/My Drive/Colab Notebooks/matrix/matrix_two/dw_matrix_car\""
      ],
      "execution_count": 3,
      "outputs": [
        {
          "output_type": "stream",
          "text": [
            "/content/drive/My Drive/Colab Notebooks/matrix/matrix_two/dw_matrix_car\n"
          ],
          "name": "stdout"
        }
      ]
    },
    {
      "cell_type": "code",
      "metadata": {
        "id": "lb3yxfdTZdrV",
        "colab_type": "code",
        "colab": {
          "base_uri": "https://localhost:8080/",
          "height": 35
        },
        "outputId": "756cd932-e1f3-44e2-d298-b186179c8d8a"
      },
      "source": [
        "df = pd.read_hdf('data/car.h5')\n",
        "df.shape"
      ],
      "execution_count": 4,
      "outputs": [
        {
          "output_type": "execute_result",
          "data": {
            "text/plain": [
              "(106494, 155)"
            ]
          },
          "metadata": {
            "tags": []
          },
          "execution_count": 4
        }
      ]
    },
    {
      "cell_type": "code",
      "metadata": {
        "id": "cA_hB-OuZlIG",
        "colab_type": "code",
        "colab": {}
      },
      "source": [
        "SUFFIX_CAT = '__cat'\n",
        "for feat in df.columns:\n",
        "  if isinstance(df[feat][0], list): continue\n",
        "  factorized_values = df[feat].factorize()[0]\n",
        "  if SUFFIX_CAT in feat:\n",
        "    df[feat] = factorized_values\n",
        "  else:\n",
        "    df[feat + SUFFIX_CAT] = factorized_values"
      ],
      "execution_count": 0,
      "outputs": []
    },
    {
      "cell_type": "code",
      "metadata": {
        "id": "S4nkr36OZpN0",
        "colab_type": "code",
        "colab": {}
      },
      "source": [
        "df['param_rok-produkcji'] = df['param_rok-produkcji'].map(lambda x: -1 if str(x) == 'None' else int(x))\n",
        "df['param_moc'] = df['param_moc'].map(lambda x: -1 if str(x) == 'None' else int(str(x).split(' ')[0]) )\n",
        "df['param_pojemność-skokowa'] = df['param_pojemność-skokowa'].map(lambda x: -1 if str(x) == 'None' else int(str(x).split('cm')[0].replace(' ', '')) )"
      ],
      "execution_count": 0,
      "outputs": []
    },
    {
      "cell_type": "code",
      "metadata": {
        "id": "aJM9MSI2Z6Mt",
        "colab_type": "code",
        "colab": {}
      },
      "source": [
        "def run_model(model, feats):\n",
        "  X = df[feats].values\n",
        "  y = df['price_value'].values\n",
        "\n",
        "  scores = cross_val_score(model, X, y, cv=3 , scoring='neg_mean_absolute_error')\n",
        "  return np.mean(scores), np.std(scores)"
      ],
      "execution_count": 0,
      "outputs": []
    },
    {
      "cell_type": "code",
      "metadata": {
        "id": "IJz8apxbaFMw",
        "colab_type": "code",
        "colab": {
          "base_uri": "https://localhost:8080/",
          "height": 110
        },
        "outputId": "4902c184-e27e-44a3-c11e-fbc195e4ec31"
      },
      "source": [
        "feats = [\n",
        "          'param_napęd__cat',\n",
        "          'param_rok-produkcji',\n",
        "          'param_stan__cat',\n",
        "          'param_skrzynia-biegów__cat',\n",
        "          'param_faktura-vat__cat',\n",
        "          'param_moc',\n",
        "          'param_marka-pojazdu__cat',\n",
        "          'feature_kamera-cofania__cat',\n",
        "          'param_typ__cat',\n",
        "          'param_pojemność-skokowa',\n",
        "          'seller_name__cat',\n",
        "          'feature_wspomaganie-kierownicy__cat',\n",
        "          'param_model-pojazdu__cat',\n",
        "          'param_wersja__cat',\n",
        "          'param_kod-silnika__cat',\n",
        "          'feature_system-start-stop__cat',\n",
        "          'feature_asystent-pasa-ruchu__cat',\n",
        "          'feature_czujniki-parkowania-przednie__cat',\n",
        "          'feature_łopatki-zmiany-biegów__cat',\n",
        "          'feature_regulowane-zawieszenie__cat'\n",
        "] \n",
        "xgb_params = {\n",
        "    'max_depth' : 5,\n",
        "    'n_estimators' : 50,\n",
        "    'learning_rate': 0.1,\n",
        "    'seed' : 0\n",
        "    \n",
        "}\n",
        "run_model(xgb.XGBRegressor(**xgb_params), feats)"
      ],
      "execution_count": 8,
      "outputs": [
        {
          "output_type": "stream",
          "text": [
            "[18:30:14] WARNING: /workspace/src/objective/regression_obj.cu:152: reg:linear is now deprecated in favor of reg:squarederror.\n",
            "[18:30:18] WARNING: /workspace/src/objective/regression_obj.cu:152: reg:linear is now deprecated in favor of reg:squarederror.\n",
            "[18:30:22] WARNING: /workspace/src/objective/regression_obj.cu:152: reg:linear is now deprecated in favor of reg:squarederror.\n"
          ],
          "name": "stdout"
        },
        {
          "output_type": "execute_result",
          "data": {
            "text/plain": [
              "(-9569.227198767323, 72.83561801421891)"
            ]
          },
          "metadata": {
            "tags": []
          },
          "execution_count": 8
        }
      ]
    },
    {
      "cell_type": "markdown",
      "metadata": {
        "id": "4E54gqAFcAz2",
        "colab_type": "text"
      },
      "source": [
        "## Hyperopt"
      ]
    },
    {
      "cell_type": "code",
      "metadata": {
        "id": "dNAJ0AOkcFkj",
        "colab_type": "code",
        "colab": {
          "base_uri": "https://localhost:8080/",
          "height": 313
        },
        "outputId": "93eee1ae-fb14-45c7-cf99-e381b00ef893"
      },
      "source": [
        "def obj_func(params):\n",
        "  print(\"Training with params: \")\n",
        "  print(params)\n",
        "\n",
        "  mean_mae, score_std = run_model(xgb.XGBRegressor(**params), feats)\n",
        "\n",
        "  return {'loss': np.abs(mean_mae), 'status': STATUS_OK}\n",
        "\n",
        "# space\n",
        "xgb_reg_params = {\n",
        "    'learning_rate':          hp.choice('learning_rate',      np.arange(0.005, 0.31, 0.05)),\n",
        "    'max_depth' :             hp.choice('max_depth',          np.arange(5, 16, 1, dtype=int)),\n",
        "    'subsample' :             hp.quniform('subsample', 0.5, 1, 0.05),\n",
        "    'colsample_bytree' :      hp.quniform('colsample_bytree', 0.5, 1, 0.05),\n",
        "    'objective' :             'reg:squarederror',\n",
        "    'n_estimators' : 100,\n",
        "    'seed' :  0,\n",
        "    \n",
        "}\n",
        "## run\n",
        "best = fmin(obj_func, xgb_reg_params, algo=tpe.suggest, max_evals=5)\n",
        "best"
      ],
      "execution_count": 11,
      "outputs": [
        {
          "output_type": "stream",
          "text": [
            "Training with params: \n",
            "{'colsample_bytree': 0.6000000000000001, 'learning_rate': 0.10500000000000001, 'max_depth': 9, 'n_estimators': 100, 'objective': 'reg:squarederror', 'seed': 0, 'subsample': 0.9}\n",
            "Training with params: \n",
            "{'colsample_bytree': 0.6000000000000001, 'learning_rate': 0.10500000000000001, 'max_depth': 13, 'n_estimators': 100, 'objective': 'reg:squarederror', 'seed': 0, 'subsample': 0.9500000000000001}\n",
            "Training with params: \n",
            "{'colsample_bytree': 0.75, 'learning_rate': 0.30500000000000005, 'max_depth': 15, 'n_estimators': 100, 'objective': 'reg:squarederror', 'seed': 0, 'subsample': 0.5}\n",
            "Training with params: \n",
            "{'colsample_bytree': 0.75, 'learning_rate': 0.15500000000000003, 'max_depth': 5, 'n_estimators': 100, 'objective': 'reg:squarederror', 'seed': 0, 'subsample': 0.55}\n",
            "Training with params: \n",
            "{'colsample_bytree': 0.65, 'learning_rate': 0.10500000000000001, 'max_depth': 6, 'n_estimators': 100, 'objective': 'reg:squarederror', 'seed': 0, 'subsample': 0.9500000000000001}\n",
            "100%|██████████| 5/5 [04:06<00:00, 42.74s/it, best loss: 7750.841622983287]\n"
          ],
          "name": "stdout"
        },
        {
          "output_type": "execute_result",
          "data": {
            "text/plain": [
              "{'colsample_bytree': 0.6000000000000001,\n",
              " 'learning_rate': 2,\n",
              " 'max_depth': 8,\n",
              " 'subsample': 0.9500000000000001}"
            ]
          },
          "metadata": {
            "tags": []
          },
          "execution_count": 11
        }
      ]
    }
  ]
}